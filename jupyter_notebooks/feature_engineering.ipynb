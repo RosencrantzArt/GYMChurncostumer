{
 "cells": [
  {
   "cell_type": "code",
   "execution_count": 2,
   "metadata": {},
   "outputs": [
    {
     "name": "stdout",
     "output_type": "stream",
     "text": [
      "        Age  WorkoutDuration  CaloriesBurned  WorkoutTime  GymVisitsPerMonth  \\\n",
      "0  1.016915         1.495883        0.813731     0.545626           0.513936   \n",
      "1  0.291583         1.560634       -0.714579    -1.602416           0.513936   \n",
      "2 -0.723881         0.459863        0.575110    -0.804572           0.276223   \n",
      "3  1.307048         0.880746       -0.623675    -1.061570          -0.199204   \n",
      "4 -1.231614        -0.576156        0.910316     0.771937           0.276223   \n",
      "\n",
      "   SatisfactionScore  Gender_Male  Gender_Other  MembershipType_Premium  \\\n",
      "0          -0.156609         True         False                   False   \n",
      "1          -1.191468         True         False                   False   \n",
      "2          -0.501562        False         False                   False   \n",
      "3          -1.536421         True         False                   False   \n",
      "4          -1.191468        False         False                   False   \n",
      "\n",
      "   MembershipType_VIP  PreferredWorkoutType_HIIT  \\\n",
      "0                True                      False   \n",
      "1               False                      False   \n",
      "2               False                      False   \n",
      "3               False                      False   \n",
      "4               False                      False   \n",
      "\n",
      "   PreferredWorkoutType_Strength Training  PreferredWorkoutType_Yoga  \n",
      "0                                   False                      False  \n",
      "1                                    True                      False  \n",
      "2                                   False                       True  \n",
      "3                                   False                      False  \n",
      "4                                   False                       True  \n"
     ]
    }
   ],
   "source": [
    "import pandas as pd\n",
    "from sklearn.preprocessing import OneHotEncoder, StandardScaler\n",
    "\n",
    "def feature_engineering(df):\n",
    "    \n",
    "    df = df.drop(columns=[\"UserID\"], errors=\"ignore\")\n",
    "\n",
    "    \n",
    "    categorical_cols = [\"Gender\", \"MembershipType\", \"PreferredWorkoutType\"]\n",
    "    df = pd.get_dummies(df, columns=categorical_cols, drop_first=True)\n",
    "\n",
    "\n",
    "    df[\"WorkoutTime\"] = df[\"WorkoutTime\"].apply(lambda x: int(x.split(\":\")[0]) * 60 + int(x.split(\":\")[1]))\n",
    "\n",
    "  \n",
    "    numeric_cols = [\"Age\", \"WorkoutDuration\", \"CaloriesBurned\", \"WorkoutTime\", \"GymVisitsPerMonth\", \"SatisfactionScore\"]\n",
    "    scaler = StandardScaler()\n",
    "    df[numeric_cols] = scaler.fit_transform(df[numeric_cols])\n",
    "\n",
    "    return df\n",
    "\n",
    "if __name__ == \"__main__\":\n",
    "    file_name = \"Gyminsights_dataset2.csv\"\n",
    "    df = pd.read_csv(file_name)\n",
    "    df = feature_engineering(df)\n",
    "    print(df.head()) \n"
   ]
  }
 ],
 "metadata": {
  "kernelspec": {
   "display_name": "Python 3",
   "language": "python",
   "name": "python3"
  },
  "language_info": {
   "codemirror_mode": {
    "name": "ipython",
    "version": 3
   },
   "file_extension": ".py",
   "mimetype": "text/x-python",
   "name": "python",
   "nbconvert_exporter": "python",
   "pygments_lexer": "ipython3",
   "version": "3.12.1"
  }
 },
 "nbformat": 4,
 "nbformat_minor": 2
}

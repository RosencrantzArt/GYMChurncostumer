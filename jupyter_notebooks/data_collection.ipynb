{
 "cells": [
  {
   "cell_type": "code",
   "execution_count": 1,
   "metadata": {},
   "outputs": [
    {
     "name": "stdout",
     "output_type": "stream",
     "text": [
      "First 5 rows of data:\n",
      "    UserID  Age  Gender MembershipType  WorkoutDuration  CaloriesBurned  \\\n",
      "0  User001   56    Male            VIP              112             648   \n",
      "1  User002   46    Male          Basic              114             379   \n",
      "2  User003   32  Female          Basic               80             606   \n",
      "3  User004   60    Male          Basic               93             395   \n",
      "4  User005   25  Female          Basic               48             665   \n",
      "\n",
      "  PreferredWorkoutType WorkoutTime  GymVisitsPerMonth  SatisfactionScore  \n",
      "0               Cardio       16:07                 20                  5  \n",
      "1    Strength Training       06:47                 20                  2  \n",
      "2                 Yoga       10:15                 18                  4  \n",
      "3               Cardio       09:08                 14                  1  \n",
      "4                 Yoga       17:06                 18                  2  \n",
      "\n",
      "Dataframe information:\n",
      "(500, 10)\n"
     ]
    }
   ],
   "source": [
    "import os\n",
    "import pandas as pd\n",
    "\n",
    "def load_data(file_name):\n",
    "    \n",
    "    raw_data_path = \"./\"\n",
    "    full_path = os.path.join(raw_data_path, file_name)\n",
    "\n",
    "    \n",
    "    if not os.path.exists(full_path):\n",
    "        raise FileNotFoundError(f\"File not found: {full_path}\")\n",
    "\n",
    "  \n",
    "    return pd.read_csv(full_path)\n",
    "\n",
    "\n",
    "file_name = \"Gyminsights_dataset2.csv\"\n",
    "\n",
    "\n",
    "df = load_data(file_name)\n",
    "\n",
    "\n",
    "print(\"First 5 rows of data:\")\n",
    "print(df.head())\n",
    "\n",
    "\n",
    "print(\"\\nDataframe information:\")\n",
    "print(df.shape)  \n",
    "\n",
    "\n",
    "\n",
    "\n"
   ]
  }
 ],
 "metadata": {
  "kernelspec": {
   "display_name": "Python 3",
   "language": "python",
   "name": "python3"
  },
  "language_info": {
   "codemirror_mode": {
    "name": "ipython",
    "version": 3
   },
   "file_extension": ".py",
   "mimetype": "text/x-python",
   "name": "python",
   "nbconvert_exporter": "python",
   "pygments_lexer": "ipython3",
   "version": "3.12.1"
  }
 },
 "nbformat": 4,
 "nbformat_minor": 2
}
